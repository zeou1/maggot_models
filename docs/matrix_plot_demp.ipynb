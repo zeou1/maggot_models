{
 "cells": [
  {
   "cell_type": "code",
   "execution_count": 1,
   "metadata": {
    "scrolled": true,
    "tags": []
   },
   "outputs": [
    {
     "output_type": "stream",
     "name": "stdout",
     "text": "/Users/ze/Documents/JHU/Senior First Semester/Neural Data Design/top-level\n"
    }
   ],
   "source": [
    "# Change directory to VSCode workspace root so that relative path loads work correctly. Turn this addition off with the DataScience.changeDirOnImportExport setting\n",
    "# ms-python.python added\n",
    "import os\n",
    "try:\n",
    "\tos.chdir(os.path.join(os.getcwd(), '../..'))\n",
    "\tprint(os.getcwd())\n",
    "except:\n",
    "\tpass\n"
   ]
  },
  {
   "cell_type": "markdown",
   "metadata": {},
   "source": [
    "## Load data (adjacency and node metadata)"
   ]
  },
  {
   "cell_type": "code",
   "execution_count": 2,
   "metadata": {},
   "outputs": [],
   "source": [
    "import matplotlib.pyplot as plt\n",
    "import seaborn as sns\n",
    "\n",
    "from graspy.plot import gridplot, heatmap\n",
    "from graspy.utils import binarize, pass_to_ranks\n",
    "from src.data import load_metagraph\n",
    "from src.visualization import CLASS_COLOR_DICT, adjplot\n",
    "\n",
    "sns.set_context(\"talk\")\n",
    "\n",
    "mg = load_metagraph(\"G\", version=\"mb_2019-09-23\")\n",
    "mg.calculate_degrees(inplace=True)\n",
    "\n",
    "adj = mg.adj  # adjacency matrix from the \"mg\" object\n",
    "meta = mg.meta  # dataframe of node metadata\n"
   ]
  },
  {
   "cell_type": "code",
   "execution_count": 3,
   "metadata": {},
   "outputs": [
    {
     "output_type": "execute_result",
     "data": {
      "text/plain": "           Pair    Class Hemisphere  In edgesum  Out edgesum  Total edgesum  \\\n4493199  13a PN  ORN uPN       left        11.0         80.0           91.0   \n8244823  13a PN  ORN uPN      right        12.0        117.0          129.0   \n7865696   1a PN  ORN uPN       left        15.0         96.0          111.0   \n8252067   1a PN  ORN uPN      right        19.0         79.0           98.0   \n7865652  22c PN  ORN uPN       left        24.0        188.0          212.0   \n\n         In degree  Out degree  Total degree  \n4493199         10          24            34  \n8244823         11          32            43  \n7865696         13          30            43  \n8252067         12          28            40  \n7865652         14          20            34  ",
      "text/html": "<div>\n<style scoped>\n    .dataframe tbody tr th:only-of-type {\n        vertical-align: middle;\n    }\n\n    .dataframe tbody tr th {\n        vertical-align: top;\n    }\n\n    .dataframe thead th {\n        text-align: right;\n    }\n</style>\n<table border=\"1\" class=\"dataframe\">\n  <thead>\n    <tr style=\"text-align: right;\">\n      <th></th>\n      <th>Pair</th>\n      <th>Class</th>\n      <th>Hemisphere</th>\n      <th>In edgesum</th>\n      <th>Out edgesum</th>\n      <th>Total edgesum</th>\n      <th>In degree</th>\n      <th>Out degree</th>\n      <th>Total degree</th>\n    </tr>\n  </thead>\n  <tbody>\n    <tr>\n      <th>4493199</th>\n      <td>13a PN</td>\n      <td>ORN uPN</td>\n      <td>left</td>\n      <td>11.0</td>\n      <td>80.0</td>\n      <td>91.0</td>\n      <td>10</td>\n      <td>24</td>\n      <td>34</td>\n    </tr>\n    <tr>\n      <th>8244823</th>\n      <td>13a PN</td>\n      <td>ORN uPN</td>\n      <td>right</td>\n      <td>12.0</td>\n      <td>117.0</td>\n      <td>129.0</td>\n      <td>11</td>\n      <td>32</td>\n      <td>43</td>\n    </tr>\n    <tr>\n      <th>7865696</th>\n      <td>1a PN</td>\n      <td>ORN uPN</td>\n      <td>left</td>\n      <td>15.0</td>\n      <td>96.0</td>\n      <td>111.0</td>\n      <td>13</td>\n      <td>30</td>\n      <td>43</td>\n    </tr>\n    <tr>\n      <th>8252067</th>\n      <td>1a PN</td>\n      <td>ORN uPN</td>\n      <td>right</td>\n      <td>19.0</td>\n      <td>79.0</td>\n      <td>98.0</td>\n      <td>12</td>\n      <td>28</td>\n      <td>40</td>\n    </tr>\n    <tr>\n      <th>7865652</th>\n      <td>22c PN</td>\n      <td>ORN uPN</td>\n      <td>left</td>\n      <td>24.0</td>\n      <td>188.0</td>\n      <td>212.0</td>\n      <td>14</td>\n      <td>20</td>\n      <td>34</td>\n    </tr>\n  </tbody>\n</table>\n</div>"
     },
     "metadata": {},
     "execution_count": 3
    }
   ],
   "source": [
    "meta.head()"
   ]
  },
  {
   "cell_type": "markdown",
   "metadata": {},
   "source": [
    "## Plotting funcs in maggot_models (adjplot)"
   ]
  },
  {
   "cell_type": "code",
   "execution_count": 4,
   "metadata": {},
   "outputs": [
    {
     "output_type": "error",
     "ename": "ValueError",
     "evalue": "class_order is not a column in the meta dataframe.",
     "traceback": [
      "\u001b[0;31m---------------------------------------------------------------------------\u001b[0m",
      "\u001b[0;31mValueError\u001b[0m                                Traceback (most recent call last)",
      "\u001b[0;32m<ipython-input-4-4ea6bae1b7b4>\u001b[0m in \u001b[0;36m<module>\u001b[0;34m\u001b[0m\n\u001b[1;32m      8\u001b[0m     \u001b[0mplot_type\u001b[0m\u001b[0;34m=\u001b[0m\u001b[0;34m\"scattermap\"\u001b[0m\u001b[0;34m,\u001b[0m  \u001b[0;31m# plot dots instead of a heatmap\u001b[0m\u001b[0;34m\u001b[0m\u001b[0;34m\u001b[0m\u001b[0m\n\u001b[1;32m      9\u001b[0m     \u001b[0msizes\u001b[0m\u001b[0;34m=\u001b[0m\u001b[0;34m(\u001b[0m\u001b[0;36m1\u001b[0m\u001b[0;34m,\u001b[0m \u001b[0;36m1\u001b[0m\u001b[0;34m)\u001b[0m\u001b[0;34m,\u001b[0m  \u001b[0;31m# min and max sizes for dots, so this is effectively binarizing\u001b[0m\u001b[0;34m\u001b[0m\u001b[0;34m\u001b[0m\u001b[0m\n\u001b[0;32m---> 10\u001b[0;31m     \u001b[0max\u001b[0m\u001b[0;34m=\u001b[0m\u001b[0max\u001b[0m\u001b[0;34m,\u001b[0m\u001b[0;34m\u001b[0m\u001b[0;34m\u001b[0m\u001b[0m\n\u001b[0m\u001b[1;32m     11\u001b[0m )\n",
      "\u001b[0;32m~/Documents/JHU/Senior First Semester/Neural Data Design/top-level/maggot_models/src/visualization/matrix.py\u001b[0m in \u001b[0;36madjplot\u001b[0;34m(data, ax, plot_type, meta, sort_class, class_order, item_order, colors, highlight, palette, ticks, border, tick_rot, center, cmap, sizes, square, title, tick_fontsize, gridline_kws, spinestyle_kws, highlight_kws, col_tick_pad, row_tick_pad, **kws)\u001b[0m\n\u001b[1;32m    729\u001b[0m         \u001b[0mrow_tick_pad\u001b[0m\u001b[0;34m=\u001b[0m\u001b[0mrow_tick_pad\u001b[0m\u001b[0;34m,\u001b[0m\u001b[0;34m\u001b[0m\u001b[0;34m\u001b[0m\u001b[0m\n\u001b[1;32m    730\u001b[0m         \u001b[0mcol_tick_pad\u001b[0m\u001b[0;34m=\u001b[0m\u001b[0mcol_tick_pad\u001b[0m\u001b[0;34m,\u001b[0m\u001b[0;34m\u001b[0m\u001b[0;34m\u001b[0m\u001b[0m\n\u001b[0;32m--> 731\u001b[0;31m         \u001b[0;34m**\u001b[0m\u001b[0mkws\u001b[0m\u001b[0;34m,\u001b[0m\u001b[0;34m\u001b[0m\u001b[0;34m\u001b[0m\u001b[0m\n\u001b[0m\u001b[1;32m    732\u001b[0m     )\n\u001b[1;32m    733\u001b[0m     \u001b[0;32mreturn\u001b[0m \u001b[0mouts\u001b[0m\u001b[0;34m\u001b[0m\u001b[0;34m\u001b[0m\u001b[0m\n",
      "\u001b[0;32m~/Documents/JHU/Senior First Semester/Neural Data Design/top-level/maggot_models/src/visualization/matrix.py\u001b[0m in \u001b[0;36mmatrixplot\u001b[0;34m(data, ax, plot_type, row_meta, col_meta, row_sort_class, col_sort_class, row_class_order, col_class_order, row_ticks, col_ticks, row_item_order, col_item_order, row_colors, col_colors, row_palette, col_palette, col_highlight, row_highlight, col_tick_pad, row_tick_pad, border, minor_ticking, tick_rot, tick_fontsize, center, cmap, sizes, square, title, gridline_kws, spinestyle_kws, highlight_kws, **kws)\u001b[0m\n\u001b[1;32m    472\u001b[0m         \u001b[0mrow_class_order\u001b[0m\u001b[0;34m,\u001b[0m\u001b[0;34m\u001b[0m\u001b[0;34m\u001b[0m\u001b[0m\n\u001b[1;32m    473\u001b[0m         \u001b[0mrow_item_order\u001b[0m\u001b[0;34m,\u001b[0m\u001b[0;34m\u001b[0m\u001b[0;34m\u001b[0m\u001b[0m\n\u001b[0;32m--> 474\u001b[0;31m         \u001b[0mrow_colors\u001b[0m\u001b[0;34m,\u001b[0m\u001b[0;34m\u001b[0m\u001b[0;34m\u001b[0m\u001b[0m\n\u001b[0m\u001b[1;32m    475\u001b[0m     )\n\u001b[1;32m    476\u001b[0m \u001b[0;34m\u001b[0m\u001b[0m\n",
      "\u001b[0;32m~/Documents/JHU/Senior First Semester/Neural Data Design/top-level/maggot_models/src/visualization/matrix.py\u001b[0m in \u001b[0;36m_check_sorting_kws\u001b[0;34m(length, meta, sort_class, class_order, item_order, colors)\u001b[0m\n\u001b[1;32m    335\u001b[0m         \u001b[0m_check_length\u001b[0m\u001b[0;34m(\u001b[0m\u001b[0mmeta\u001b[0m\u001b[0;34m,\u001b[0m \u001b[0;34m\"meta\"\u001b[0m\u001b[0;34m,\u001b[0m \u001b[0mlength\u001b[0m\u001b[0;34m)\u001b[0m\u001b[0;34m\u001b[0m\u001b[0;34m\u001b[0m\u001b[0m\n\u001b[1;32m    336\u001b[0m         \u001b[0msort_class\u001b[0m \u001b[0;34m=\u001b[0m \u001b[0m_check_item_in_meta\u001b[0m\u001b[0;34m(\u001b[0m\u001b[0mmeta\u001b[0m\u001b[0;34m,\u001b[0m \u001b[0msort_class\u001b[0m\u001b[0;34m,\u001b[0m \u001b[0;34m\"sort_class\"\u001b[0m\u001b[0;34m)\u001b[0m\u001b[0;34m\u001b[0m\u001b[0;34m\u001b[0m\u001b[0m\n\u001b[0;32m--> 337\u001b[0;31m         \u001b[0mclass_order\u001b[0m \u001b[0;34m=\u001b[0m \u001b[0m_check_item_in_meta\u001b[0m\u001b[0;34m(\u001b[0m\u001b[0mmeta\u001b[0m\u001b[0;34m,\u001b[0m \u001b[0mclass_order\u001b[0m\u001b[0;34m,\u001b[0m \u001b[0;34m\"class_order\"\u001b[0m\u001b[0;34m)\u001b[0m\u001b[0;34m\u001b[0m\u001b[0;34m\u001b[0m\u001b[0m\n\u001b[0m\u001b[1;32m    338\u001b[0m         \u001b[0mitem_order\u001b[0m \u001b[0;34m=\u001b[0m \u001b[0m_check_item_in_meta\u001b[0m\u001b[0;34m(\u001b[0m\u001b[0mmeta\u001b[0m\u001b[0;34m,\u001b[0m \u001b[0mitem_order\u001b[0m\u001b[0;34m,\u001b[0m \u001b[0;34m\"item_order\"\u001b[0m\u001b[0;34m)\u001b[0m\u001b[0;34m\u001b[0m\u001b[0;34m\u001b[0m\u001b[0m\n\u001b[1;32m    339\u001b[0m         \u001b[0mcolors\u001b[0m \u001b[0;34m=\u001b[0m \u001b[0m_check_item_in_meta\u001b[0m\u001b[0;34m(\u001b[0m\u001b[0mmeta\u001b[0m\u001b[0;34m,\u001b[0m \u001b[0mcolors\u001b[0m\u001b[0;34m,\u001b[0m \u001b[0;34m\"colors\"\u001b[0m\u001b[0;34m)\u001b[0m\u001b[0;34m\u001b[0m\u001b[0;34m\u001b[0m\u001b[0m\n",
      "\u001b[0;32m~/Documents/JHU/Senior First Semester/Neural Data Design/top-level/maggot_models/src/visualization/matrix.py\u001b[0m in \u001b[0;36m_check_item_in_meta\u001b[0;34m(meta, item, name)\u001b[0m\n\u001b[1;32m    297\u001b[0m     \u001b[0;32mfor\u001b[0m \u001b[0mcol_name\u001b[0m \u001b[0;32min\u001b[0m \u001b[0mitem\u001b[0m\u001b[0;34m:\u001b[0m\u001b[0;34m\u001b[0m\u001b[0;34m\u001b[0m\u001b[0m\n\u001b[1;32m    298\u001b[0m         \u001b[0;32mif\u001b[0m \u001b[0mcol_name\u001b[0m \u001b[0;32mnot\u001b[0m \u001b[0;32min\u001b[0m \u001b[0mmeta\u001b[0m\u001b[0;34m.\u001b[0m\u001b[0mcolumns\u001b[0m\u001b[0;34m:\u001b[0m\u001b[0;34m\u001b[0m\u001b[0;34m\u001b[0m\u001b[0m\n\u001b[0;32m--> 299\u001b[0;31m             \u001b[0;32mraise\u001b[0m \u001b[0mValueError\u001b[0m\u001b[0;34m(\u001b[0m\u001b[0;34mf\"{name} is not a column in the meta dataframe.\"\u001b[0m\u001b[0;34m)\u001b[0m\u001b[0;34m\u001b[0m\u001b[0;34m\u001b[0m\u001b[0m\n\u001b[0m\u001b[1;32m    300\u001b[0m     \u001b[0;32mreturn\u001b[0m \u001b[0mitem\u001b[0m\u001b[0;34m\u001b[0m\u001b[0;34m\u001b[0m\u001b[0m\n\u001b[1;32m    301\u001b[0m \u001b[0;34m\u001b[0m\u001b[0m\n",
      "\u001b[0;31mValueError\u001b[0m: class_order is not a column in the meta dataframe."
     ]
    }
   ],
   "source": [
    "fig, ax = plt.subplots(1, 1, figsize=(15, 15))\n",
    "adjplot(\n",
    "    adj,\n",
    "    meta=meta,\n",
    "    sort_class=\"Hemisphere\",  # group by hemisphere, this is a key for column in \"meta\"\n",
    "    item_order=\"Pair ID\",  # order by pairs (some have no pair here so don't look same)\n",
    "    class_order=\"size\",\n",
    "    plot_type=\"scattermap\",  # plot dots instead of a heatmap\n",
    "    sizes=(1, 1),  # min and max sizes for dots, so this is effectively binarizing\n",
    "    ax=ax,\n",
    ")\n"
   ]
  },
  {
   "cell_type": "code",
   "execution_count": null,
   "metadata": {},
   "outputs": [],
   "source": [
    "fig, ax = plt.subplots(1, 1, figsize=(15, 15))\n",
    "adjplot(\n",
    "    adj,  # can also try \"pass_to_ranks\" here, see below\n",
    "    meta=meta,\n",
    "    sort_class=\"hemisphere\",\n",
    "    plot_type=\"scattermap\",\n",
    "    sizes=(0.2, 10),  # can try to leave some dynamic range for weights\n",
    "    item_order=\"Pair ID\",\n",
    "    ax=ax,\n",
    ")\n"
   ]
  },
  {
   "cell_type": "code",
   "execution_count": null,
   "metadata": {},
   "outputs": [],
   "source": [
    "fig, ax = plt.subplots(1, 1, figsize=(15, 15))\n",
    "adjplot(\n",
    "    adj,\n",
    "    meta=meta,\n",
    "    sort_class=[\n",
    "        \"hemisphere\",\n",
    "        \"dVNC\",\n",
    "    ],  # sort by hemisphere and then whether or not dVNC\n",
    "    plot_type=\"scattermap\",\n",
    "    sizes=(0.2, 10),  # can try to leave some dynamic range for weights\n",
    "    item_order=\"merge_class\",\n",
    "    ax=ax,\n",
    "    row_tick_pad=[\n",
    "        0,\n",
    "        0.75,\n",
    "    ],  # how much padding between 1st and 2nd ticks, need a bit more in this case\n",
    ")\n"
   ]
  },
  {
   "cell_type": "code",
   "execution_count": null,
   "metadata": {},
   "outputs": [],
   "source": [
    "fig, ax = plt.subplots(1, 1, figsize=(15, 15))\n",
    "adjplot(\n",
    "    pass_to_ranks(adj),  # rank transform the data\n",
    "    meta=meta,\n",
    "    sort_class=\"merge_class\",  # group by known cell type\n",
    "    plot_type=\"heatmap\",\n",
    "    ax=ax,\n",
    "    cbar=False,\n",
    "    ticks=False,  # turn off text for groups\n",
    "    colors=\"merge_class\",  # draw colors on borders\n",
    "    palette=CLASS_COLOR_DICT,\n",
    "    gridline_kws=dict(\n",
    "        linewidth=0.2, color=\"grey\", linestyle=\"--\"\n",
    "    ),  # make separators thinner\n",
    ")\n"
   ]
  },
  {
   "cell_type": "code",
   "execution_count": null,
   "metadata": {},
   "outputs": [],
   "source": [
    "fig, ax = plt.subplots(1, 1, figsize=(15, 15))\n",
    "\n",
    "meta[\"Total degree\"] = -meta[\"Total degree\"]\n",
    "adjplot(\n",
    "    binarize(adj),  # binarize the data, even this may be hard to see\n",
    "    meta=meta,\n",
    "    sort_class=\"merge_class\",\n",
    "    plot_type=\"heatmap\",\n",
    "    item_order=\"Total degree\",  # order nodes w/in group by degree\n",
    "    ax=ax,\n",
    "    cbar=False,\n",
    "    ticks=False,\n",
    "    colors=\"merge_class\",\n",
    "    palette=CLASS_COLOR_DICT,\n",
    "    gridline_kws=dict(linewidth=0.2, color=\"grey\", linestyle=\"--\"),\n",
    ")\n"
   ]
  },
  {
   "cell_type": "markdown",
   "metadata": {},
   "source": [
    " ## Can also try Graspy funcs\n",
    " I have been meaning to update them to be more like the above ones\n",
    " simple version of the above, has some more handy features (see documentation)"
   ]
  },
  {
   "cell_type": "code",
   "execution_count": null,
   "metadata": {},
   "outputs": [],
   "source": [
    "heatmap(adj, transform=\"binarize\", cbar=False)\n",
    "\n",
    "# this one is like \"scattermap\" but expects a list of graphs\n",
    "# can plot multiple adjacencies on top of one another in different colors, for example\n",
    "gridplot([adj], transform=\"simple-nonzero\", sizes=(2, 4))\n"
   ]
  }
 ],
 "metadata": {
  "file_extension": ".py",
  "kernelspec": {
   "display_name": "Python 3.7.9 64-bit ('ndd': conda)",
   "language": "python",
   "name": "python_defaultSpec_1600701309038"
  },
  "language_info": {
   "codemirror_mode": {
    "name": "ipython",
    "version": 3
   },
   "file_extension": ".py",
   "mimetype": "text/x-python",
   "name": "python",
   "nbconvert_exporter": "python",
   "pygments_lexer": "ipython3",
   "version": "3.7.9-final"
  },
  "mimetype": "text/x-python",
  "name": "python",
  "npconvert_exporter": "python",
  "pygments_lexer": "ipython3",
  "version": 3
 },
 "nbformat": 4,
 "nbformat_minor": 2
}