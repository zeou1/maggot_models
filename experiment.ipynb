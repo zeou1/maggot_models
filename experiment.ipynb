{
 "metadata": {
  "language_info": {
   "codemirror_mode": {
    "name": "ipython",
    "version": 3
   },
   "file_extension": ".py",
   "mimetype": "text/x-python",
   "name": "python",
   "nbconvert_exporter": "python",
   "pygments_lexer": "ipython3",
   "version": "3.7.9-final"
  },
  "orig_nbformat": 2,
  "kernelspec": {
   "name": "python_defaultSpec_1600701333029",
   "display_name": "Python 3.7.9 64-bit ('ndd': conda)"
  }
 },
 "nbformat": 4,
 "nbformat_minor": 2,
 "cells": [
  {
   "cell_type": "code",
   "execution_count": 15,
   "metadata": {
    "tags": []
   },
   "outputs": [
    {
     "output_type": "stream",
     "name": "stdout",
     "text": "/Users/ze/Documents/JHU/Senior First Semester/Neural Data Design\n"
    }
   ],
   "source": [
    "import os\n",
    "try:\n",
    "    os.chdir(os.path.join(os.getcwd(), '../..'))\n",
    "    print(os.getcwd())\n",
    "except:\n",
    "    pass"
   ]
  },
  {
   "cell_type": "code",
   "execution_count": 5,
   "metadata": {
    "tags": []
   },
   "outputs": [],
   "source": [
    "import matplotlib.pyplot as plt\n",
    "import seaborn as sns\n",
    "import numpy as np\n",
    "import pandas\n",
    "\n",
    "from graspy.plot import gridplot, heatmap\n",
    "from graspy.utils import binarize, pass_to_ranks\n",
    "from src.data import load_metagraph\n",
    "from src.visualization import CLASS_COLOR_DICT, adjplot\n",
    "\n",
    "sns.set_context(\"talk\")\n",
    "\n",
    "adj = np.random.rand(10,10)\n",
    "meta = pandas.DataFrame({'Pair':['13a PN'] * 10, 'Class': ['ORN uPN'] * 10, 'Hemisphere': ['left'] * 10, 'In edgesum': [10] * 10, 'Outedgesum': [10] * 10, 'Total edgesum': [20] * 10})"
   ]
  },
  {
   "cell_type": "code",
   "execution_count": 6,
   "metadata": {},
   "outputs": [
    {
     "output_type": "execute_result",
     "data": {
      "text/plain": "     Pair    Class\n0  13a PN  ORN uPN\n1  13a PN  ORN uPN\n2  13a PN  ORN uPN\n3  13a PN  ORN uPN\n4  13a PN  ORN uPN",
      "text/html": "<div>\n<style scoped>\n    .dataframe tbody tr th:only-of-type {\n        vertical-align: middle;\n    }\n\n    .dataframe tbody tr th {\n        vertical-align: top;\n    }\n\n    .dataframe thead th {\n        text-align: right;\n    }\n</style>\n<table border=\"1\" class=\"dataframe\">\n  <thead>\n    <tr style=\"text-align: right;\">\n      <th></th>\n      <th>Pair</th>\n      <th>Class</th>\n    </tr>\n  </thead>\n  <tbody>\n    <tr>\n      <th>0</th>\n      <td>13a PN</td>\n      <td>ORN uPN</td>\n    </tr>\n    <tr>\n      <th>1</th>\n      <td>13a PN</td>\n      <td>ORN uPN</td>\n    </tr>\n    <tr>\n      <th>2</th>\n      <td>13a PN</td>\n      <td>ORN uPN</td>\n    </tr>\n    <tr>\n      <th>3</th>\n      <td>13a PN</td>\n      <td>ORN uPN</td>\n    </tr>\n    <tr>\n      <th>4</th>\n      <td>13a PN</td>\n      <td>ORN uPN</td>\n    </tr>\n  </tbody>\n</table>\n</div>"
     },
     "metadata": {},
     "execution_count": 6
    }
   ],
   "source": [
    "meta.head()"
   ]
  },
  {
   "cell_type": "code",
   "execution_count": null,
   "metadata": {},
   "outputs": [],
   "source": []
  }
 ]
}