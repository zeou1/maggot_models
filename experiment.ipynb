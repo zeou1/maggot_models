{
 "metadata": {
  "language_info": {
   "codemirror_mode": {
    "name": "ipython",
    "version": 3
   },
   "file_extension": ".py",
   "mimetype": "text/x-python",
   "name": "python",
   "nbconvert_exporter": "python",
   "pygments_lexer": "ipython3",
   "version": "3.7.9-final"
  },
  "orig_nbformat": 2,
  "kernelspec": {
   "name": "python_defaultSpec_1600701333029",
   "display_name": "Python 3.7.9 64-bit ('ndd': conda)"
  }
 },
 "nbformat": 4,
 "nbformat_minor": 2,
 "cells": [
  {
   "cell_type": "code",
   "execution_count": 15,
   "metadata": {
    "tags": []
   },
   "outputs": [
    {
     "output_type": "stream",
     "name": "stdout",
     "text": "/Users/ze/Documents/JHU/Senior First Semester/Neural Data Design\n"
    }
   ],
   "source": [
    "import os\n",
    "try:\n",
    "    os.chdir(os.path.join(os.getcwd(), '../..'))\n",
    "    print(os.getcwd())\n",
    "except:\n",
    "    pass"
   ]
  },
  {
   "cell_type": "code",
   "execution_count": 9,
   "metadata": {
    "tags": []
   },
   "outputs": [],
   "source": [
    "import matplotlib.pyplot as plt\n",
    "import seaborn as sns\n",
    "import numpy as np\n",
    "import pandas\n",
    "\n",
    "from graspy.plot import gridplot, heatmap\n",
    "from graspy.utils import binarize, pass_to_ranks\n",
    "from src.data import load_metagraph\n",
    "from src.visualization import CLASS_COLOR_DICT, adjplot\n",
    "\n",
    "sns.set_context(\"talk\")\n",
    "\n",
    "adj = np.random.rand(10,10)\n",
    "meta = pandas.DataFrame({'Pair':['13a PN'] * 10, 'Class': ['ORN uPN'] * 10, 'Hemisphere': ['left'] * 10, 'In edgesum': [10] * 10, 'Outedgesum': [10] * 10, 'Total edgesum': [20] * 10, 'In degree': [10] * 10, 'Out degree': [10] * 10, 'Total degree': [20] * 10})"
   ]
  },
  {
   "cell_type": "code",
   "execution_count": 10,
   "metadata": {},
   "outputs": [
    {
     "output_type": "execute_result",
     "data": {
      "text/plain": "     Pair    Class Hemisphere  In edgesum  Outedgesum  Total edgesum  \\\n0  13a PN  ORN uPN       left          10          10             20   \n1  13a PN  ORN uPN       left          10          10             20   \n2  13a PN  ORN uPN       left          10          10             20   \n3  13a PN  ORN uPN       left          10          10             20   \n4  13a PN  ORN uPN       left          10          10             20   \n\n   In degree  Out degree  Total degree  \n0         10          10            20  \n1         10          10            20  \n2         10          10            20  \n3         10          10            20  \n4         10          10            20  ",
      "text/html": "<div>\n<style scoped>\n    .dataframe tbody tr th:only-of-type {\n        vertical-align: middle;\n    }\n\n    .dataframe tbody tr th {\n        vertical-align: top;\n    }\n\n    .dataframe thead th {\n        text-align: right;\n    }\n</style>\n<table border=\"1\" class=\"dataframe\">\n  <thead>\n    <tr style=\"text-align: right;\">\n      <th></th>\n      <th>Pair</th>\n      <th>Class</th>\n      <th>Hemisphere</th>\n      <th>In edgesum</th>\n      <th>Outedgesum</th>\n      <th>Total edgesum</th>\n      <th>In degree</th>\n      <th>Out degree</th>\n      <th>Total degree</th>\n    </tr>\n  </thead>\n  <tbody>\n    <tr>\n      <th>0</th>\n      <td>13a PN</td>\n      <td>ORN uPN</td>\n      <td>left</td>\n      <td>10</td>\n      <td>10</td>\n      <td>20</td>\n      <td>10</td>\n      <td>10</td>\n      <td>20</td>\n    </tr>\n    <tr>\n      <th>1</th>\n      <td>13a PN</td>\n      <td>ORN uPN</td>\n      <td>left</td>\n      <td>10</td>\n      <td>10</td>\n      <td>20</td>\n      <td>10</td>\n      <td>10</td>\n      <td>20</td>\n    </tr>\n    <tr>\n      <th>2</th>\n      <td>13a PN</td>\n      <td>ORN uPN</td>\n      <td>left</td>\n      <td>10</td>\n      <td>10</td>\n      <td>20</td>\n      <td>10</td>\n      <td>10</td>\n      <td>20</td>\n    </tr>\n    <tr>\n      <th>3</th>\n      <td>13a PN</td>\n      <td>ORN uPN</td>\n      <td>left</td>\n      <td>10</td>\n      <td>10</td>\n      <td>20</td>\n      <td>10</td>\n      <td>10</td>\n      <td>20</td>\n    </tr>\n    <tr>\n      <th>4</th>\n      <td>13a PN</td>\n      <td>ORN uPN</td>\n      <td>left</td>\n      <td>10</td>\n      <td>10</td>\n      <td>20</td>\n      <td>10</td>\n      <td>10</td>\n      <td>20</td>\n    </tr>\n  </tbody>\n</table>\n</div>"
     },
     "metadata": {},
     "execution_count": 10
    }
   ],
   "source": [
    "meta.head()"
   ]
  },
  {
   "cell_type": "code",
   "execution_count": 11,
   "metadata": {},
   "outputs": [
    {
     "output_type": "error",
     "ename": "SyntaxError",
     "evalue": "invalid syntax (<ipython-input-11-45fc01769674>, line 5)",
     "traceback": [
      "\u001b[0;36m  File \u001b[0;32m\"<ipython-input-11-45fc01769674>\"\u001b[0;36m, line \u001b[0;32m5\u001b[0m\n\u001b[0;31m    sort_class=\"Hemisphere\",\u001b[0m\n\u001b[0m             ^\u001b[0m\n\u001b[0;31mSyntaxError\u001b[0m\u001b[0;31m:\u001b[0m invalid syntax\n"
     ]
    }
   ],
   "source": [
    "fig, ax = plt.subplots(1, 1, figsize=(15, 15))\n",
    "adjplot(\n",
    "    adj,\n",
    "    meta=meta,\n",
    "    sort_class=\"Hemisphere\",\n",
    "    class_order=\"size\",\n",
    "    item_order=\"Pair ID\",\n",
    "    plot_type=\"scattermap\",\n",
    "    size=(1, 1),\n",
    "    ax=ax\n",
    ")"
   ]
  },
  {
   "cell_type": "code",
   "execution_count": null,
   "metadata": {},
   "outputs": [],
   "source": []
  }
 ]
}